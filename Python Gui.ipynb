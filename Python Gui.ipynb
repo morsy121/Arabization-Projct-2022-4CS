{
 "cells": [
  {
   "cell_type": "code",
   "execution_count": 1,
   "id": "faa19f75",
   "metadata": {},
   "outputs": [],
   "source": [
    "#section 1"
   ]
  },
  {
   "cell_type": "code",
   "execution_count": 9,
   "id": "00d51ca0",
   "metadata": {},
   "outputs": [],
   "source": [
    "# from tkinter import * \n",
    "# import tkinter.messagebox\n",
    "# #import tkfont\n",
    "# import sys"
   ]
  },
  {
   "cell_type": "code",
   "execution_count": 10,
   "id": "3a37791d",
   "metadata": {},
   "outputs": [],
   "source": [
    "# def helloworld():\n",
    "#     tkinter.messagebox.showinfo(\"message\", \"hello user !\")\n",
    "\n",
    "# def print(txt):\n",
    "#     tkinter.messagebox.showinfo(\"message\",txt)\n",
    "    \n",
    "# top=Tk()\n",
    "# print(top.winfo_name())\n",
    "# top.geometry(\"300x500\")\n",
    "# top.title(\"Main Form\")\n",
    "# #way1-----------------------------------------\n",
    "# btn=Button(top,text=\"Red\" , border=3 , fg=\"Red\")\n",
    "# #btn.pack(side = \"right\" , fill = Y)\n",
    "# #btn.grid()\n",
    "\n",
    "# #way2------------------------------------------\n",
    "# btn2=Button(top)\n",
    "# btn2.config(text=\"Blue\" , fg=\"Blue\")\n",
    "# #btn2.pack(side = \"bottom\" , fill = X)\n",
    "# #btn2.grid(row=4 , columnspan=3 , padx = 50)\n",
    "\n",
    "# #way3-----------------------------------------\n",
    "# btn3=Button(top)\n",
    "# btn3[\"text\"]=\"Green\"\n",
    "# btn3[\"fg\"] = \"black\"\n",
    "# #btn3.pack()\n",
    "# #btn3.grid(row=6 , columnspan=3 ,pady=50,ipadx=20)\n",
    "\n",
    "#---------------------------------------------------------------\n",
    "# for i in range (3):\n",
    "#     for j in range(4):\n",
    "#         Button(top , text= \"R%s/C%s\"%(i , j)).grid(row = i , column = j)\n",
    "#-------------------------------------------------------------------------\n",
    "\n",
    "# btn=Button(top,text=\"submit\" , border=3 , fg=\"Red\" , command=helloworld)\n",
    "# btn.pack(side = \"top\" ,)\n",
    "# btn.place(height=100 , width = 200 , x = 50 , y = 100)\n",
    "\n",
    "#top.mainloop()"
   ]
  },
  {
   "cell_type": "code",
   "execution_count": 11,
   "id": "4ffcafdc",
   "metadata": {},
   "outputs": [],
   "source": [
    "#section 2"
   ]
  },
  {
   "cell_type": "code",
   "execution_count": 1,
   "id": "991fd628",
   "metadata": {},
   "outputs": [
    {
     "name": "stderr",
     "output_type": "stream",
     "text": [
      "Exception in Tkinter callback\n",
      "Traceback (most recent call last):\n",
      "  File \"C:\\Users\\ALNOUR\\anaconda3\\lib\\tkinter\\__init__.py\", line 1892, in __call__\n",
      "    return self.func(*args)\n",
      "  File \"<ipython-input-1-8302d80f1f1f>\", line 18, in <lambda>\n",
      "    btn=Button(top,text=\"click\" , border=3 , fg=\"Red\" , command=lambda:print(en.get()))\n",
      "  File \"<ipython-input-1-8302d80f1f1f>\", line 8, in print\n",
      "    en.delete()\n",
      "TypeError: delete() missing 1 required positional argument: 'first'\n"
     ]
    }
   ],
   "source": [
    "from tkinter import * \n",
    "import tkinter.messagebox\n",
    "#import tkfont\n",
    "import sys\n",
    "\n",
    "def print(txt):\n",
    "    tkinter.messagebox.showinfo(\"message\",txt)\n",
    "    en.delete()\n",
    "    \n",
    "top=Tk()\n",
    "#print(top.winfo_name())\n",
    "top.geometry(\"300x500\")\n",
    "top.title(\"Main Form\")\n",
    "text = StringVar()\n",
    "text.set(\"Enter Your Name:\")\n",
    "en = Entry(top , textvariable=text)\n",
    "en.pack()\n",
    "btn=Button(top,text=\"click\" , border=3 , fg=\"Red\" , command=lambda:print(en.get()))\n",
    "btn.pack()\n",
    "top.mainloop()"
   ]
  },
  {
   "cell_type": "code",
   "execution_count": null,
   "id": "b9306f97",
   "metadata": {},
   "outputs": [],
   "source": []
  },
  {
   "cell_type": "code",
   "execution_count": null,
   "id": "fbb678fe",
   "metadata": {},
   "outputs": [],
   "source": []
  },
  {
   "cell_type": "code",
   "execution_count": null,
   "id": "157c6453",
   "metadata": {},
   "outputs": [],
   "source": []
  },
  {
   "cell_type": "code",
   "execution_count": null,
   "id": "bac52098",
   "metadata": {},
   "outputs": [],
   "source": []
  },
  {
   "cell_type": "code",
   "execution_count": null,
   "id": "4bf1e31d",
   "metadata": {},
   "outputs": [],
   "source": []
  },
  {
   "cell_type": "code",
   "execution_count": null,
   "id": "b18397cb",
   "metadata": {},
   "outputs": [],
   "source": []
  },
  {
   "cell_type": "code",
   "execution_count": null,
   "id": "7895afee",
   "metadata": {},
   "outputs": [],
   "source": []
  },
  {
   "cell_type": "code",
   "execution_count": null,
   "id": "494f6bfb",
   "metadata": {},
   "outputs": [],
   "source": []
  }
 ],
 "metadata": {
  "kernelspec": {
   "display_name": "Python 3",
   "language": "python",
   "name": "python3"
  },
  "language_info": {
   "codemirror_mode": {
    "name": "ipython",
    "version": 3
   },
   "file_extension": ".py",
   "mimetype": "text/x-python",
   "name": "python",
   "nbconvert_exporter": "python",
   "pygments_lexer": "ipython3",
   "version": "3.8.8"
  }
 },
 "nbformat": 4,
 "nbformat_minor": 5
}
